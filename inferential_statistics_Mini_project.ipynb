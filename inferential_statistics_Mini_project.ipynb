{
 "cells": [
  {
   "cell_type": "markdown",
   "metadata": {},
   "source": [
    "# Inferential Statistics III - Bayesian"
   ]
  },
  {
   "cell_type": "markdown",
   "metadata": {},
   "source": [
    "## Introduction"
   ]
  },
  {
   "cell_type": "markdown",
   "metadata": {},
   "source": [
    "In the last two subunits, you've encountered two schools for performing inference from samples. The Frequentist school calls upon a body of theory established over the past couple of centuries or so. Under certain assumptions and conditions, this allows us to calculate what we would expect to see if an experiment were to be repeated again and again and again. The expected value of the average of a sample is one such statistic we can calculate a result for, even if the originating distribution is far from normal. The bootstrap school, on the other hand, literally does (virtually) run that experiment again and again and again and empirically observes the multitude of outcomes. It then empirically calculates a statistic of interest. While this can be for exactly the same statistics that frequentism calculates (e.g. the mean of a sample) this empirical approach can also perform inference on statistics that do not have well known sampling distributions. Because of the requirement to repeat many, many redraws (with replacement) from the sample, this approach only became feasible with modern computing power.\n",
    "\n",
    "And thus we come to the Bayesian school of inference. Here we frame our probabilities not so much in terms of \"how many times would I expect this event to occur if the experiment were to be rerun many times\" but rather in terms of \"what is my belief in the likelihood of this event occurring?\" In a Bayesian probabilistic programming context, we can build models for systems and then let the data tell us how likely certain values for our model parameters are. This can be a very useful way to incorporate prior knowledge and deal with limited data. It can just be more than a _little_ fiddly to produce a good model!"
   ]
  },
  {
   "cell_type": "markdown",
   "metadata": {},
   "source": [
    "## Medical charge data set"
   ]
  },
  {
   "cell_type": "markdown",
   "metadata": {},
   "source": [
    "For the final mini-project of the stats unit, you'll once again return tot he medical charge data you've used for the other mini-projects. Previously, we considered whether we believed that the actual average(non-insured) charge had fallen below a certain threshold.\n",
    "\n",
    "The hospital is now reviewing its financial resiliency plan, which requires a model for revenue under a range of conditions that include the number of patients treated. Its current model is based on a confidence interval for the mean, and scaling that by different numbers of patients for each scenario. This approach has a number of limitations, most acutely the breakdown of the central limit theorem for low patient volumes; the current model does not do a good job of reflecting the variability in revenue you would see as the number of cases drops. A bootstrap approach would return samples of the same size as the original. Taking subsamples would restrict the sampling to the values already present in the original sample and would not do a good job of representing the actual variability you might see. What is needed is a better model of individual charges.\n",
    "\n",
    "So the problem here is that we want to model the distribution of individual charges and _we also really want to be able to capture our uncertainty about that distribution_ so we can better capture the range of values we might see. This naturally leads us to a powerful, probabilistic approach — we'll use the pymc3 library to perform Bayesian inference."
   ]
  },
  {
   "cell_type": "markdown",
   "metadata": {},
   "source": [
    "### Loading the data and performing an initial view"
   ]
  },
  {
   "cell_type": "code",
   "execution_count": 3,
   "metadata": {},
   "outputs": [
    {
     "name": "stdout",
     "output_type": "stream",
     "text": [
      "Collecting package metadata (current_repodata.json): done\n",
      "Solving environment: \\ \n",
      "The environment is inconsistent, please check the package plan carefully\n",
      "The following packages are causing the inconsistency:\n",
      "\n",
      "  - defaults/osx-64::anaconda==2019.07=py37_0\n",
      "  - defaults/osx-64::numba==0.44.1=py37h6440ff4_0\n",
      "done\n",
      "\n",
      "\n",
      "==> WARNING: A newer version of conda exists. <==\n",
      "  current version: 4.7.12\n",
      "  latest version: 4.8.2\n",
      "\n",
      "Please update conda by running\n",
      "\n",
      "    $ conda update -n base -c defaults conda\n",
      "\n",
      "\n",
      "\n",
      "## Package Plan ##\n",
      "\n",
      "  environment location: /Users/davidgodinez/anaconda3\n",
      "\n",
      "  added / updated specs:\n",
      "    - pymc3\n",
      "\n",
      "\n",
      "The following packages will be downloaded:\n",
      "\n",
      "    package                    |            build\n",
      "    ---------------------------|-----------------\n",
      "    _anaconda_depends-2019.03  |           py37_0           6 KB\n",
      "    anaconda-custom            |           py37_1           3 KB\n",
      "    ca-certificates-2019.11.28 |       hecc5488_0         145 KB  conda-forge\n",
      "    cctools-895                |                1         1.1 MB\n",
      "    certifi-2019.11.28         |           py37_0         148 KB  conda-forge\n",
      "    clang-4.0.1                |                1        34.8 MB\n",
      "    clang_osx-64-4.0.1         |      h1ce6c1d_18         168 KB\n",
      "    clangxx-4.0.1              |                1         243 KB\n",
      "    clangxx_osx-64-4.0.1       |      h22b1bf0_17         146 KB  conda-forge\n",
      "    compiler-rt-4.0.1          |       hcfea43d_1         375 KB\n",
      "    conda-4.8.2                |           py37_0         3.0 MB  conda-forge\n",
      "    joblib-0.12.5              |           py37_0         332 KB\n",
      "    ld64-274.2                 |                1         2.4 MB\n",
      "    libgpuarray-0.7.6          |    h1de35cc_1003         188 KB  conda-forge\n",
      "    llvm-4.0.1                 |                1        43.0 MB\n",
      "    llvm-lto-tapi-4.0.1        |                1         9.3 MB\n",
      "    mako-1.1.0                 |             py_0          57 KB  conda-forge\n",
      "    openssl-1.1.1d             |       h0b31af3_0         1.9 MB  conda-forge\n",
      "    pygpu-0.7.6                |py37h3b54f70_1000         638 KB  conda-forge\n",
      "    pymc3-3.6                  |        py37_1000         1.0 MB  conda-forge\n",
      "    tbb-2018.0.5               |       h2d50403_0         150 KB  conda-forge\n",
      "    theano-1.0.4               |py37h0a44026_1000         3.6 MB  conda-forge\n",
      "    ------------------------------------------------------------\n",
      "                                           Total:       102.7 MB\n",
      "\n",
      "The following NEW packages will be INSTALLED:\n",
      "\n",
      "  _anaconda_depends  pkgs/main/osx-64::_anaconda_depends-2019.03-py37_0\n",
      "  cctools            pkgs/main/osx-64::cctools-895-1\n",
      "  clang              pkgs/main/osx-64::clang-4.0.1-1\n",
      "  clang_osx-64       pkgs/main/osx-64::clang_osx-64-4.0.1-h1ce6c1d_18\n",
      "  clangxx            pkgs/main/osx-64::clangxx-4.0.1-1\n",
      "  clangxx_osx-64     conda-forge/osx-64::clangxx_osx-64-4.0.1-h22b1bf0_17\n",
      "  compiler-rt        pkgs/main/osx-64::compiler-rt-4.0.1-hcfea43d_1\n",
      "  ld64               pkgs/main/osx-64::ld64-274.2-1\n",
      "  libgpuarray        conda-forge/osx-64::libgpuarray-0.7.6-h1de35cc_1003\n",
      "  llvm               pkgs/main/osx-64::llvm-4.0.1-1\n",
      "  llvm-lto-tapi      pkgs/main/osx-64::llvm-lto-tapi-4.0.1-1\n",
      "  mako               conda-forge/noarch::mako-1.1.0-py_0\n",
      "  pygpu              conda-forge/osx-64::pygpu-0.7.6-py37h3b54f70_1000\n",
      "  pymc3              conda-forge/osx-64::pymc3-3.6-py37_1000\n",
      "  tbb                conda-forge/osx-64::tbb-2018.0.5-h2d50403_0\n",
      "  theano             conda-forge/osx-64::theano-1.0.4-py37h0a44026_1000\n",
      "\n",
      "The following packages will be UPDATED:\n",
      "\n",
      "  ca-certificates    pkgs/main::ca-certificates-2019.5.15-0 --> conda-forge::ca-certificates-2019.11.28-hecc5488_0\n",
      "  certifi               pkgs/main::certifi-2019.6.16-py37_0 --> conda-forge::certifi-2019.11.28-py37_0\n",
      "  conda                      pkgs/main::conda-4.7.12-py37_0 --> conda-forge::conda-4.8.2-py37_0\n",
      "  openssl              pkgs/main::openssl-1.1.1c-h1de35cc_1 --> conda-forge::openssl-1.1.1d-h0b31af3_0\n",
      "\n",
      "The following packages will be DOWNGRADED:\n",
      "\n",
      "  anaconda                                   2019.07-py37_0 --> custom-py37_1\n",
      "  joblib                                      0.13.2-py37_0 --> 0.12.5-py37_0\n",
      "\n",
      "\n",
      "\n",
      "Downloading and Extracting Packages\n",
      "_anaconda_depends-20 | 6 KB      | ##################################### | 100% \n",
      "joblib-0.12.5        | 332 KB    | ##################################### | 100% \n",
      "compiler-rt-4.0.1    | 375 KB    | ##################################### | 100% \n",
      "theano-1.0.4         | 3.6 MB    | ##################################### | 100% \n",
      "llvm-4.0.1           | 43.0 MB   | ##################################### | 100% \n",
      "openssl-1.1.1d       | 1.9 MB    | ##################################### | 100% \n",
      "cctools-895          | 1.1 MB    | ##################################### | 100% \n",
      "certifi-2019.11.28   | 148 KB    | ##################################### | 100% \n",
      "pymc3-3.6            | 1.0 MB    | ##################################### | 100% \n",
      "ca-certificates-2019 | 145 KB    | ##################################### | 100% \n",
      "clang_osx-64-4.0.1   | 168 KB    | ##################################### | 100% \n",
      "ld64-274.2           | 2.4 MB    | ##################################### | 100% \n",
      "clang-4.0.1          | 34.8 MB   | ##################################### | 100% \n",
      "clangxx-4.0.1        | 243 KB    | ##################################### | 100% \n",
      "libgpuarray-0.7.6    | 188 KB    | ##################################### | 100% \n",
      "mako-1.1.0           | 57 KB     | ##################################### | 100% \n",
      "pygpu-0.7.6          | 638 KB    | ##################################### | 100% \n",
      "tbb-2018.0.5         | 150 KB    | ##################################### | 100% \n",
      "clangxx_osx-64-4.0.1 | 146 KB    | ##################################### | 100% \n",
      "conda-4.8.2          | 3.0 MB    | ##################################### | 100% \n",
      "anaconda-custom      | 3 KB      | ##################################### | 100% \n",
      "llvm-lto-tapi-4.0.1  | 9.3 MB    | ##################################### | 100% \n",
      "Preparing transaction: done\n",
      "Verifying transaction: done\n",
      "Executing transaction: done\n",
      "\n",
      "Note: you may need to restart the kernel to use updated packages.\n"
     ]
    }
   ],
   "source": [
    "conda install -c conda-forge pymc3"
   ]
  },
  {
   "cell_type": "code",
   "execution_count": 6,
   "metadata": {},
   "outputs": [
    {
     "name": "stdout",
     "output_type": "stream",
     "text": [
      "Collecting package metadata (current_repodata.json): done\n",
      "Solving environment: done\n",
      "\n",
      "## Package Plan ##\n",
      "\n",
      "  environment location: /Users/davidgodinez/anaconda3\n",
      "\n",
      "  added / updated specs:\n",
      "    - conda\n",
      "\n",
      "\n",
      "The following packages will be downloaded:\n",
      "\n",
      "    package                    |            build\n",
      "    ---------------------------|-----------------\n",
      "    anaconda-project-0.8.4     |             py_0         215 KB\n",
      "    asn1crypto-1.3.0           |           py37_0         167 KB\n",
      "    astroid-2.3.3              |           py37_0         272 KB\n",
      "    astropy-4.0                |   py37h1de35cc_0         6.0 MB\n",
      "    attrs-19.3.0               |             py_0          39 KB\n",
      "    babel-2.8.0                |             py_0         5.3 MB\n",
      "    backports.functools_lru_cache-1.6.1|             py_0          11 KB\n",
      "    beautifulsoup4-4.8.2       |           py37_0         165 KB\n",
      "    bitarray-1.2.1             |   py37h1de35cc_0          80 KB\n",
      "    bokeh-1.4.0                |           py37_0         8.2 MB\n",
      "    bottleneck-1.3.2           |   py37h776bbcc_0         106 KB\n",
      "    ca-certificates-2020.1.1   |                0         125 KB\n",
      "    certifi-2019.11.28         |           py37_0         153 KB\n",
      "    cffi-1.14.0                |   py37hb5b8e2f_0         216 KB\n",
      "    chardet-3.0.4              |        py37_1003         174 KB\n",
      "    clangxx_osx-64-4.0.1       |      h22b1bf0_18         168 KB\n",
      "    cloudpickle-1.3.0          |             py_0          30 KB\n",
      "    colorama-0.4.3             |             py_0          20 KB\n",
      "    conda-4.8.2                |           py37_0         2.8 MB\n",
      "    conda-package-handling-1.6.0|   py37h1de35cc_0         1.3 MB\n",
      "    contextlib2-0.6.0.post1    |             py_0          16 KB\n",
      "    cryptography-2.8           |   py37ha12b0ac_0         523 KB\n",
      "    curl-7.68.0                |       ha441bb4_0         126 KB\n",
      "    cython-0.29.15             |   py37h0a44026_0         1.9 MB\n",
      "    cytoolz-0.10.1             |   py37h1de35cc_0         307 KB\n",
      "    dask-2.11.0                |             py_0          13 KB\n",
      "    dask-core-2.11.0           |             py_0         565 KB\n",
      "    dbus-1.13.12               |       h90a0687_0         444 KB\n",
      "    decorator-4.4.1            |             py_0          13 KB\n",
      "    distributed-2.11.0         |           py37_0         938 KB\n",
      "    docutils-0.16              |           py37_0         667 KB\n",
      "    fsspec-0.6.2               |             py_0          53 KB\n",
      "    future-0.18.2              |           py37_0         638 KB\n",
      "    glib-2.63.1                |       hd977a24_0         2.6 MB\n",
      "    h5py-2.10.0                |   py37h3134771_0         810 KB\n",
      "    heapdict-1.0.1             |             py_0           9 KB\n",
      "    hypothesis-5.5.4           |             py_0         227 KB\n",
      "    imageio-2.6.1              |           py37_0         3.2 MB\n",
      "    imagesize-1.2.0            |             py_0          10 KB\n",
      "    importlib_metadata-1.5.0   |           py37_0          48 KB\n",
      "    ipykernel-5.1.4            |   py37h39e3cac_0         171 KB\n",
      "    ipython-7.12.0             |   py37h5ca1d4c_0         989 KB\n",
      "    ipywidgets-7.5.1           |             py_0         107 KB\n",
      "    jedi-0.16.0                |           py37_0         756 KB\n",
      "    jinja2-2.11.1              |             py_0         104 KB\n",
      "    json5-0.9.1                |             py_0          26 KB\n",
      "    jsonschema-3.2.0           |           py37_0          95 KB\n",
      "    jupyter_client-5.3.4       |           py37_0         141 KB\n",
      "    jupyter_console-6.1.0      |             py_0          24 KB\n",
      "    jupyter_core-4.6.1         |           py37_0          70 KB\n",
      "    jupyterlab-1.2.6           |     pyhf63ae98_0         2.8 MB\n",
      "    jupyterlab_server-1.0.6    |             py_0          26 KB\n",
      "    keyring-21.1.0             |           py37_0          55 KB\n",
      "    krb5-1.17.1                |       hddcf347_0         1.1 MB\n",
      "    lazy-object-proxy-1.4.3    |   py37h1de35cc_0          28 KB\n",
      "    libcurl-7.68.0             |       h051b688_0         382 KB\n",
      "    libtiff-4.1.0              |       hcb84e12_0         404 KB\n",
      "    llvmlite-0.31.0            |   py37h1341992_0        11.2 MB\n",
      "    lxml-4.5.0                 |   py37hef8c89e_0         1.2 MB\n",
      "    mkl-service-2.3.0          |   py37hfbe908c_0         201 KB\n",
      "    mkl_fft-1.0.15             |   py37h5e564d8_0         136 KB\n",
      "    mkl_random-1.1.0           |   py37ha771720_0         275 KB\n",
      "    mock-4.0.1                 |             py_0          32 KB\n",
      "    more-itertools-8.2.0       |             py_0          41 KB\n",
      "    nbconvert-5.6.1            |           py37_0         458 KB\n",
      "    nbformat-5.0.4             |             py_0          89 KB\n",
      "    ncurses-6.2                |       h0a44026_0        1024 KB\n",
      "    networkx-2.4               |             py_0         1.2 MB\n",
      "    nltk-3.4.5                 |           py37_0         1.7 MB\n",
      "    notebook-6.0.3             |           py37_0         4.0 MB\n",
      "    numba-0.48.0               |   py37h6c726b0_0         2.9 MB\n",
      "    numexpr-2.7.1              |   py37hce01a72_0         121 KB\n",
      "    numpy-1.18.1               |   py37h7241aed_0           5 KB\n",
      "    numpy-base-1.18.1          |   py37h6575580_1         3.9 MB\n",
      "    numpydoc-0.9.2             |             py_0          31 KB\n",
      "    openpyxl-3.0.3             |             py_0         162 KB\n",
      "    openssl-1.1.1d             |       h1de35cc_4         2.2 MB\n",
      "    packaging-20.1             |             py_0          35 KB\n",
      "    pandas-1.0.1               |   py37h6c726b0_0         7.7 MB\n",
      "    parso-0.6.1                |             py_0          69 KB\n",
      "    partd-1.1.0                |             py_0          20 KB\n",
      "    path-13.1.0                |           py37_0          34 KB\n",
      "    path.py-12.4.0             |                0           7 KB\n",
      "    pathlib2-2.3.5             |           py37_0          37 KB\n",
      "    pexpect-4.8.0              |           py37_0          81 KB\n",
      "    pillow-7.0.0               |   py37h4655f20_0         564 KB\n",
      "    pip-20.0.2                 |           py37_1         1.7 MB\n",
      "    pluggy-0.13.1              |           py37_0          33 KB\n",
      "    prompt_toolkit-3.0.3       |             py_0         242 KB\n",
      "    psutil-5.6.7               |   py37h1de35cc_0         324 KB\n",
      "    py-1.8.1                   |             py_0          71 KB\n",
      "    pycurl-7.43.0.5            |   py37ha12b0ac_0          67 KB\n",
      "    pygments-2.5.2             |             py_0         672 KB\n",
      "    pylint-2.4.4               |           py37_0         420 KB\n",
      "    pyodbc-4.0.30              |   py37h0a44026_0          64 KB\n",
      "    pyopenssl-19.1.0           |           py37_0          87 KB\n",
      "    pyparsing-2.4.6            |             py_0          64 KB\n",
      "    pyrsistent-0.15.7          |   py37h1de35cc_0          90 KB\n",
      "    pysocks-1.7.1              |           py37_0          30 KB\n",
      "    pytables-3.6.1             |   py37h5bccee9_0         1.1 MB\n",
      "    pytest-5.3.5               |           py37_0         372 KB\n",
      "    pytest-astropy-0.8.0       |             py_0           9 KB\n",
      "    pytest-astropy-header-0.1.2|             py_0          12 KB\n",
      "    pytest-doctestplus-0.5.0   |             py_0          21 KB\n",
      "    pytest-openfiles-0.4.0     |             py_0          10 KB\n",
      "    pytest-remotedata-0.3.2    |           py37_0          15 KB\n",
      "    python-dateutil-2.8.1      |             py_0         224 KB\n",
      "    python-libarchive-c-2.8    |          py37_13          24 KB\n",
      "    pytz-2019.3                |             py_0         231 KB\n",
      "    pywavelets-1.1.1           |   py37h1de35cc_0         3.4 MB\n",
      "    pyyaml-5.3                 |   py37h1de35cc_0         161 KB\n",
      "    pyzmq-18.1.1               |   py37h0a44026_0         400 KB\n",
      "    qtawesome-0.6.1            |             py_0         693 KB\n",
      "    qtconsole-4.6.0            |             py_1          97 KB\n",
      "    qtpy-1.9.0                 |             py_0          39 KB\n",
      "    requests-2.22.0            |           py37_1          91 KB\n",
      "    rope-0.16.0                |             py_0         126 KB\n",
      "    ruamel_yaml-0.15.87        |   py37h1de35cc_0         237 KB\n",
      "    scikit-image-0.16.2        |   py37h6c726b0_0        22.5 MB\n",
      "    scikit-learn-0.22.1        |   py37h27c97d8_0         4.7 MB\n",
      "    scipy-1.4.1                |   py37h9fa6033_0        12.9 MB\n",
      "    seaborn-0.10.0             |             py_0         163 KB\n",
      "    setuptools-45.2.0          |           py37_0         519 KB\n",
      "    six-1.14.0                 |           py37_0          26 KB\n",
      "    snowballstemmer-2.0.0      |             py_0          58 KB\n",
      "    soupsieve-1.9.5            |           py37_0          61 KB\n",
      "    sphinx-2.4.0               |             py_0         1.1 MB\n",
      "    sphinxcontrib-websupport-1.2.0|             py_0          35 KB\n",
      "    spyder-kernels-0.5.2       |           py37_0          71 KB\n",
      "    sqlalchemy-1.3.13          |   py37h1de35cc_0         1.4 MB\n",
      "    sqlite-3.31.1              |       ha441bb4_0         1.2 MB\n",
      "    statsmodels-0.11.0         |   py37h1de35cc_0         7.4 MB\n",
      "    sympy-1.5.1                |           py37_0         8.3 MB\n",
      "    tbb-2020.0                 |       h04f5b5a_0         150 KB\n",
      "    tblib-1.6.0                |             py_0          16 KB\n",
      "    terminado-0.8.3            |           py37_0          25 KB\n",
      "    testpath-0.4.4             |             py_0          88 KB\n",
      "    theano-1.0.4               |   py37h04f5b5a_0         3.1 MB\n",
      "    tornado-6.0.3              |   py37h1de35cc_3         586 KB\n",
      "    tqdm-4.42.1                |             py_0          56 KB\n",
      "    traitlets-4.3.3            |           py37_0         140 KB\n",
      "    urllib3-1.25.8             |           py37_0         169 KB\n",
      "    wcwidth-0.1.8              |             py_0          21 KB\n",
      "    werkzeug-1.0.0             |             py_0         240 KB\n",
      "    wheel-0.34.2               |           py37_0          50 KB\n",
      "    widgetsnbextension-3.5.1   |           py37_0         866 KB\n",
      "    wurlitzer-2.0.0            |           py37_0          14 KB\n",
      "    xlsxwriter-1.2.7           |             py_0         111 KB\n",
      "    xlwings-0.17.1             |           py37_0         428 KB\n",
      "    zipp-2.2.0                 |             py_0          12 KB\n",
      "    ------------------------------------------------------------\n",
      "                                           Total:       162.3 MB\n",
      "\n",
      "The following NEW packages will be INSTALLED:\n",
      "\n",
      "  fsspec             pkgs/main/noarch::fsspec-0.6.2-py_0\n",
      "  hypothesis         pkgs/main/noarch::hypothesis-5.5.4-py_0\n",
      "  path               pkgs/main/osx-64::path-13.1.0-py37_0\n",
      "  pytest-astropy-he~ pkgs/main/noarch::pytest-astropy-header-0.1.2-py_0\n",
      "\n",
      "The following packages will be REMOVED:\n",
      "\n",
      "  libgpuarray-0.7.6-h1de35cc_1003\n",
      "  mako-1.1.0-py_0\n",
      "  pygpu-0.7.6-py37h3b54f70_1000\n",
      "\n",
      "The following packages will be UPDATED:\n",
      "\n",
      "  anaconda-project                               0.8.3-py_0 --> 0.8.4-py_0\n",
      "  asn1crypto                                  0.24.0-py37_0 --> 1.3.0-py37_0\n",
      "  astroid                                      2.2.5-py37_0 --> 2.3.3-py37_0\n",
      "  astropy                              3.2.1-py37h1de35cc_0 --> 4.0-py37h1de35cc_0\n",
      "  attrs               pkgs/main/osx-64::attrs-19.1.0-py37_1 --> pkgs/main/noarch::attrs-19.3.0-py_0\n",
      "  babel                                          2.7.0-py_0 --> 2.8.0-py_0\n",
      "  backports.functoo~                               1.5-py_2 --> 1.6.1-py_0\n",
      "  beautifulsoup4                               4.7.1-py37_1 --> 4.8.2-py37_0\n",
      "  bitarray                             0.9.3-py37h1de35cc_0 --> 1.2.1-py37h1de35cc_0\n",
      "  bokeh                                        1.2.0-py37_0 --> 1.4.0-py37_0\n",
      "  bottleneck                           1.2.1-py37h1d22016_1 --> 1.3.2-py37h776bbcc_0\n",
      "  ca-certificates    conda-forge::ca-certificates-2019.11.~ --> pkgs/main::ca-certificates-2020.1.1-0\n",
      "  cffi                                1.12.3-py37hb5b8e2f_0 --> 1.14.0-py37hb5b8e2f_0\n",
      "  chardet                                      3.0.4-py37_1 --> 3.0.4-py37_1003\n",
      "  clangxx_osx-64     conda-forge::clangxx_osx-64-4.0.1-h22~ --> pkgs/main::clangxx_osx-64-4.0.1-h22b1bf0_18\n",
      "  cloudpickle                                    1.2.1-py_0 --> 1.3.0-py_0\n",
      "  colorama           pkgs/main/osx-64::colorama-0.4.1-py37~ --> pkgs/main/noarch::colorama-0.4.3-py_0\n",
      "  conda-package-han~                          1.3.11-py37_0 --> 1.6.0-py37h1de35cc_0\n",
      "  contextlib2        pkgs/main/osx-64::contextlib2-0.5.5-p~ --> pkgs/main/noarch::contextlib2-0.6.0.post1-py_0\n",
      "  cryptography                           2.7-py37ha12b0ac_0 --> 2.8-py37ha12b0ac_0\n",
      "  curl                                    7.65.2-ha441bb4_0 --> 7.68.0-ha441bb4_0\n",
      "  cython                             0.29.12-py37h0a44026_0 --> 0.29.15-py37h0a44026_0\n",
      "  cytoolz                             0.10.0-py37h1de35cc_0 --> 0.10.1-py37h1de35cc_0\n",
      "  dask                                           2.1.0-py_0 --> 2.11.0-py_0\n",
      "  dask-core                                      2.1.0-py_0 --> 2.11.0-py_0\n",
      "  dbus                                    1.13.6-h90a0687_0 --> 1.13.12-h90a0687_0\n",
      "  decorator          pkgs/main/osx-64::decorator-4.4.0-py3~ --> pkgs/main/noarch::decorator-4.4.1-py_0\n",
      "  distributed        pkgs/main/noarch::distributed-2.1.0-p~ --> pkgs/main/osx-64::distributed-2.11.0-py37_0\n",
      "  docutils                                      0.14-py37_0 --> 0.16-py37_0\n",
      "  future                                      0.17.1-py37_0 --> 0.18.2-py37_0\n",
      "  glib                                    2.56.2-hd9629dc_0 --> 2.63.1-hd977a24_0\n",
      "  h5py                                 2.9.0-py37h3134771_0 --> 2.10.0-py37h3134771_0\n",
      "  heapdict           pkgs/main/osx-64::heapdict-1.0.0-py37~ --> pkgs/main/noarch::heapdict-1.0.1-py_0\n",
      "  imageio                                      2.5.0-py37_0 --> 2.6.1-py37_0\n",
      "  imagesize          pkgs/main/osx-64::imagesize-1.1.0-py3~ --> pkgs/main/noarch::imagesize-1.2.0-py_0\n",
      "  importlib_metadata                            0.17-py37_1 --> 1.5.0-py37_0\n",
      "  ipykernel                            5.1.1-py37h39e3cac_0 --> 5.1.4-py37h39e3cac_0\n",
      "  ipython                              7.6.1-py37h39e3cac_0 --> 7.12.0-py37h5ca1d4c_0\n",
      "  ipywidgets                                     7.5.0-py_0 --> 7.5.1-py_0\n",
      "  jedi                                        0.13.3-py37_0 --> 0.16.0-py37_0\n",
      "  jinja2             pkgs/main/osx-64::jinja2-2.10.1-py37_0 --> pkgs/main/noarch::jinja2-2.11.1-py_0\n",
      "  json5                                          0.8.4-py_0 --> 0.9.1-py_0\n",
      "  jsonschema                                   3.0.1-py37_0 --> 3.2.0-py37_0\n",
      "  jupyter_client     pkgs/main/noarch::jupyter_client-5.3.~ --> pkgs/main/osx-64::jupyter_client-5.3.4-py37_0\n",
      "  jupyter_console    pkgs/main/osx-64::jupyter_console-6.0~ --> pkgs/main/noarch::jupyter_console-6.1.0-py_0\n",
      "  jupyter_core       pkgs/main/noarch::jupyter_core-4.5.0-~ --> pkgs/main/osx-64::jupyter_core-4.6.1-py37_0\n",
      "  jupyterlab         pkgs/main/osx-64::jupyterlab-1.0.2-py~ --> pkgs/main/noarch::jupyterlab-1.2.6-pyhf63ae98_0\n",
      "  jupyterlab_server                              1.0.0-py_0 --> 1.0.6-py_0\n",
      "  keyring                                     18.0.0-py37_0 --> 21.1.0-py37_0\n",
      "  krb5                                    1.16.1-hddcf347_7 --> 1.17.1-hddcf347_0\n",
      "  lazy-object-proxy                    1.4.1-py37h1de35cc_0 --> 1.4.3-py37h1de35cc_0\n",
      "  libcurl                                 7.65.2-h051b688_0 --> 7.68.0-h051b688_0\n",
      "  libtiff                                 4.0.10-hcb84e12_2 --> 4.1.0-hcb84e12_0\n",
      "  llvmlite                            0.29.0-py37h98b8051_0 --> 0.31.0-py37h1341992_0\n",
      "  lxml                                 4.3.4-py37hef8c89e_0 --> 4.5.0-py37hef8c89e_0\n",
      "  mkl-service                          2.0.2-py37h1de35cc_0 --> 2.3.0-py37hfbe908c_0\n",
      "  mkl_fft                             1.0.12-py37h5e564d8_0 --> 1.0.15-py37h5e564d8_0\n",
      "  mkl_random                           1.0.2-py37h27c97d8_0 --> 1.1.0-py37ha771720_0\n",
      "  mock                  pkgs/main/osx-64::mock-3.0.5-py37_0 --> pkgs/main/noarch::mock-4.0.1-py_0\n",
      "  more-itertools     pkgs/main/osx-64::more-itertools-7.0.~ --> pkgs/main/noarch::more-itertools-8.2.0-py_0\n",
      "  nbconvert          pkgs/main/noarch::nbconvert-5.5.0-py_0 --> pkgs/main/osx-64::nbconvert-5.6.1-py37_0\n",
      "  nbformat           pkgs/main/osx-64::nbformat-4.4.0-py37~ --> pkgs/main/noarch::nbformat-5.0.4-py_0\n",
      "  ncurses                                    6.1-h0a44026_1 --> 6.2-h0a44026_0\n",
      "  networkx                                         2.3-py_0 --> 2.4-py_0\n",
      "  nltk                                         3.4.4-py37_0 --> 3.4.5-py37_0\n",
      "  notebook                                     6.0.0-py37_0 --> 6.0.3-py37_0\n",
      "  numba                               0.44.1-py37h6440ff4_0 --> 0.48.0-py37h6c726b0_0\n",
      "  numexpr                              2.6.9-py37h7413580_0 --> 2.7.1-py37hce01a72_0\n",
      "  numpy                               1.16.4-py37hacdab7b_0 --> 1.18.1-py37h7241aed_0\n",
      "  numpy-base                          1.16.4-py37h6575580_0 --> 1.18.1-py37h6575580_1\n",
      "  numpydoc                                       0.9.1-py_0 --> 0.9.2-py_0\n",
      "  openpyxl                                       2.6.2-py_0 --> 3.0.3-py_0\n",
      "  openssl            conda-forge::openssl-1.1.1d-h0b31af3_0 --> pkgs/main::openssl-1.1.1d-h1de35cc_4\n",
      "  packaging          pkgs/main/osx-64::packaging-19.0-py37~ --> pkgs/main/noarch::packaging-20.1-py_0\n",
      "  pandas                              0.24.2-py37h0a44026_0 --> 1.0.1-py37h6c726b0_0\n",
      "  parso                                          0.5.0-py_0 --> 0.6.1-py_0\n",
      "  partd                                          1.0.0-py_0 --> 1.1.0-py_0\n",
      "  path.py                                       12.0.1-py_0 --> 12.4.0-0\n",
      "  pathlib2                                     2.3.4-py37_0 --> 2.3.5-py37_0\n",
      "  pexpect                                      4.7.0-py37_0 --> 4.8.0-py37_0\n",
      "  pillow                               6.1.0-py37hb68e598_0 --> 7.0.0-py37h4655f20_0\n",
      "  pip                                         19.1.1-py37_0 --> 20.0.2-py37_1\n",
      "  pluggy               pkgs/main/noarch::pluggy-0.12.0-py_0 --> pkgs/main/osx-64::pluggy-0.13.1-py37_0\n",
      "  prompt_toolkit     pkgs/main/osx-64::prompt_toolkit-2.0.~ --> pkgs/main/noarch::prompt_toolkit-3.0.3-py_0\n",
      "  psutil                               5.6.3-py37h1de35cc_0 --> 5.6.7-py37h1de35cc_0\n",
      "  py                      pkgs/main/osx-64::py-1.8.0-py37_0 --> pkgs/main/noarch::py-1.8.1-py_0\n",
      "  pycurl                            7.43.0.3-py37ha12b0ac_0 --> 7.43.0.5-py37ha12b0ac_0\n",
      "  pygments                                       2.4.2-py_0 --> 2.5.2-py_0\n",
      "  pylint                                       2.3.1-py37_0 --> 2.4.4-py37_0\n",
      "  pyodbc                              4.0.26-py37h0a44026_0 --> 4.0.30-py37h0a44026_0\n",
      "  pyopenssl                                   19.0.0-py37_0 --> 19.1.0-py37_0\n",
      "  pyparsing                                      2.4.0-py_0 --> 2.4.6-py_0\n",
      "  pyrsistent                         0.14.11-py37h1de35cc_0 --> 0.15.7-py37h1de35cc_0\n",
      "  pysocks                                      1.7.0-py37_0 --> 1.7.1-py37_0\n",
      "  pytables                             3.5.2-py37h5bccee9_1 --> 3.6.1-py37h5bccee9_0\n",
      "  pytest                                       5.0.1-py37_0 --> 5.3.5-py37_0\n",
      "  pytest-astropy     pkgs/main/osx-64::pytest-astropy-0.5.~ --> pkgs/main/noarch::pytest-astropy-0.8.0-py_0\n",
      "  pytest-doctestplus pkgs/main/osx-64::pytest-doctestplus-~ --> pkgs/main/noarch::pytest-doctestplus-0.5.0-py_0\n",
      "  pytest-openfiles   pkgs/main/osx-64::pytest-openfiles-0.~ --> pkgs/main/noarch::pytest-openfiles-0.4.0-py_0\n",
      "  pytest-remotedata                            0.3.1-py37_0 --> 0.3.2-py37_0\n",
      "  python-dateutil    pkgs/main/osx-64::python-dateutil-2.8~ --> pkgs/main/noarch::python-dateutil-2.8.1-py_0\n",
      "  python-libarchive~                            2.8-py37_11 --> 2.8-py37_13\n",
      "  pytz                                          2019.1-py_0 --> 2019.3-py_0\n",
      "  pywavelets                           1.0.3-py37h1d22016_1 --> 1.1.1-py37h1de35cc_0\n",
      "  pyyaml                               5.1.1-py37h1de35cc_0 --> 5.3-py37h1de35cc_0\n",
      "  pyzmq                               18.0.0-py37h0a44026_0 --> 18.1.1-py37h0a44026_0\n",
      "  qtawesome          pkgs/main/osx-64::qtawesome-0.5.7-py3~ --> pkgs/main/noarch::qtawesome-0.6.1-py_0\n",
      "  qtconsole                                      4.5.1-py_0 --> 4.6.0-py_1\n",
      "  qtpy                                           1.8.0-py_0 --> 1.9.0-py_0\n",
      "  requests                                    2.22.0-py37_0 --> 2.22.0-py37_1\n",
      "  rope                                          0.14.0-py_0 --> 0.16.0-py_0\n",
      "  ruamel_yaml                        0.15.46-py37h1de35cc_0 --> 0.15.87-py37h1de35cc_0\n",
      "  scikit-image                        0.15.0-py37h0a44026_0 --> 0.16.2-py37h6c726b0_0\n",
      "  scikit-learn                        0.21.2-py37h27c97d8_0 --> 0.22.1-py37h27c97d8_0\n",
      "  scipy                                1.3.0-py37h1410ff5_0 --> 1.4.1-py37h9fa6033_0\n",
      "  seaborn            pkgs/main/osx-64::seaborn-0.9.0-py37_0 --> pkgs/main/noarch::seaborn-0.10.0-py_0\n",
      "  setuptools                                  41.0.1-py37_0 --> 45.2.0-py37_0\n",
      "  six                                         1.12.0-py37_0 --> 1.14.0-py37_0\n",
      "  snowballstemmer                                1.9.0-py_0 --> 2.0.0-py_0\n",
      "  soupsieve                                      1.8-py37_0 --> 1.9.5-py37_0\n",
      "  sphinx                                         2.1.2-py_0 --> 2.4.0-py_0\n",
      "  sphinxcontrib-web~                             1.1.2-py_0 --> 1.2.0-py_0\n",
      "  spyder-kernels                               0.5.1-py37_0 --> 0.5.2-py37_0\n",
      "  sqlalchemy                           1.3.5-py37h1de35cc_0 --> 1.3.13-py37h1de35cc_0\n",
      "  sqlite                                  3.29.0-ha441bb4_0 --> 3.31.1-ha441bb4_0\n",
      "  statsmodels                         0.10.0-py37h1d22016_0 --> 0.11.0-py37h1de35cc_0\n",
      "  sympy                                          1.4-py37_0 --> 1.5.1-py37_0\n",
      "  tbb                  conda-forge::tbb-2018.0.5-h2d50403_0 --> pkgs/main::tbb-2020.0-h04f5b5a_0\n",
      "  tblib                                          1.4.0-py_0 --> 1.6.0-py_0\n",
      "  terminado                                    0.8.2-py37_0 --> 0.8.3-py37_0\n",
      "  testpath           pkgs/main/osx-64::testpath-0.4.2-py37~ --> pkgs/main/noarch::testpath-0.4.4-py_0\n",
      "  tornado                              6.0.3-py37h1de35cc_0 --> 6.0.3-py37h1de35cc_3\n",
      "  tqdm                                          4.32.1-py_0 --> 4.42.1-py_0\n",
      "  traitlets                                    4.3.2-py37_0 --> 4.3.3-py37_0\n",
      "  urllib3                                     1.24.2-py37_0 --> 1.25.8-py37_0\n",
      "  wcwidth            pkgs/main/osx-64::wcwidth-0.1.7-py37_0 --> pkgs/main/noarch::wcwidth-0.1.8-py_0\n",
      "  werkzeug                                      0.15.4-py_0 --> 1.0.0-py_0\n",
      "  wheel                                       0.33.4-py37_0 --> 0.34.2-py37_0\n",
      "  widgetsnbextension                           3.5.0-py37_0 --> 3.5.1-py37_0\n",
      "  wurlitzer                                    1.0.2-py37_0 --> 2.0.0-py37_0\n",
      "  xlsxwriter                                     1.1.8-py_0 --> 1.2.7-py_0\n",
      "  xlwings                                     0.15.8-py37_0 --> 0.17.1-py37_0\n",
      "  zipp                                           0.5.1-py_0 --> 2.2.0-py_0\n",
      "\n",
      "The following packages will be SUPERSEDED by a higher-priority channel:\n",
      "\n",
      "  certifi                                       conda-forge --> pkgs/main\n",
      "  conda                                         conda-forge --> pkgs/main\n",
      "  theano             conda-forge::theano-1.0.4-py37h0a4402~ --> pkgs/main::theano-1.0.4-py37h04f5b5a_0\n",
      "\n",
      "\n",
      "\n",
      "Downloading and Extracting Packages\n"
     ]
    },
    {
     "name": "stdout",
     "output_type": "stream",
     "text": [
      "werkzeug-1.0.0       | 240 KB    | ##################################### | 100% \n",
      "notebook-6.0.3       | 4.0 MB    | ##################################### | 100% \n",
      "sphinx-2.4.0         | 1.1 MB    | ##################################### | 100% \n",
      "attrs-19.3.0         | 39 KB     | ##################################### | 100% \n",
      "dask-2.11.0          | 13 KB     | ##################################### | 100% \n",
      "jsonschema-3.2.0     | 95 KB     | ##################################### | 100% \n",
      "prompt_toolkit-3.0.3 | 242 KB    | ##################################### | 100% \n",
      "py-1.8.1             | 71 KB     | ##################################### | 100% \n",
      "fsspec-0.6.2         | 53 KB     | ##################################### | 100% \n",
      "more-itertools-8.2.0 | 41 KB     | ##################################### | 100% \n",
      "pyyaml-5.3           | 161 KB    | ##################################### | 100% \n",
      "qtpy-1.9.0           | 39 KB     | ##################################### | 100% \n",
      "chardet-3.0.4        | 174 KB    | ##################################### | 100% \n",
      "tqdm-4.42.1          | 56 KB     | ##################################### | 100% \n",
      "snowballstemmer-2.0. | 58 KB     | ##################################### | 100% \n",
      "sqlite-3.31.1        | 1.2 MB    | ##################################### | 100% \n",
      "pytz-2019.3          | 231 KB    | ##################################### | 100% \n",
      "cffi-1.14.0          | 216 KB    | ##################################### | 100% \n",
      "mkl_random-1.1.0     | 275 KB    | ##################################### | 100% \n",
      "dask-core-2.11.0     | 565 KB    | ##################################### | 100% \n",
      "numba-0.48.0         | 2.9 MB    | ##################################### | 100% \n",
      "python-libarchive-c- | 24 KB     | ##################################### | 100% \n",
      "h5py-2.10.0          | 810 KB    | ##################################### | 100% \n",
      "qtawesome-0.6.1      | 693 KB    | ##################################### | 100% \n",
      "pytest-openfiles-0.4 | 10 KB     | ##################################### | 100% \n",
      "tbb-2020.0           | 150 KB    | ##################################### | 100% \n",
      "ipython-7.12.0       | 989 KB    | ##################################### | 100% \n",
      "theano-1.0.4         | 3.1 MB    | ##################################### | 100% \n",
      "requests-2.22.0      | 91 KB     | ##################################### | 100% \n",
      "pillow-7.0.0         | 564 KB    | ##################################### | 100% \n",
      "heapdict-1.0.1       | 9 KB      | ##################################### | 100% \n",
      "scikit-learn-0.22.1  | 4.7 MB    | ##################################### | 100% \n",
      "pyodbc-4.0.30        | 64 KB     | ##################################### | 100% \n",
      "openpyxl-3.0.3       | 162 KB    | ##################################### | 100% \n",
      "partd-1.1.0          | 20 KB     | ##################################### | 100% \n",
      "xlsxwriter-1.2.7     | 111 KB    | ##################################### | 100% \n",
      "psutil-5.6.7         | 324 KB    | ##################################### | 100% \n",
      "statsmodels-0.11.0   | 7.4 MB    | ##################################### | 100% \n",
      "networkx-2.4         | 1.2 MB    | ##################################### | 100% \n",
      "pytest-remotedata-0. | 15 KB     | ##################################### | 100% \n",
      "widgetsnbextension-3 | 866 KB    | ##################################### | 100% \n",
      "hypothesis-5.5.4     | 227 KB    | ##################################### | 100% \n",
      "anaconda-project-0.8 | 215 KB    | ##################################### | 100% \n",
      "jupyterlab-1.2.6     | 2.8 MB    | ##################################### | 100% \n",
      "conda-4.8.2          | 2.8 MB    | ##################################### | 100% \n",
      "bitarray-1.2.1       | 80 KB     | ##################################### | 100% \n",
      "asn1crypto-1.3.0     | 167 KB    | ##################################### | 100% \n",
      "nltk-3.4.5           | 1.7 MB    | ##################################### | 100% \n",
      "jupyter_console-6.1. | 24 KB     | ##################################### | 100% \n",
      "spyder-kernels-0.5.2 | 71 KB     | ##################################### | 100% \n",
      "glib-2.63.1          | 2.6 MB    | ##################################### | 100% \n",
      "pygments-2.5.2       | 672 KB    | ##################################### | 100% \n",
      "backports.functools_ | 11 KB     | ##################################### | 100% \n",
      "testpath-0.4.4       | 88 KB     | ##################################### | 100% \n",
      "ca-certificates-2020 | 125 KB    | ##################################### | 100% \n",
      "sphinxcontrib-websup | 35 KB     | ##################################### | 100% \n",
      "nbformat-5.0.4       | 89 KB     | ##################################### | 100% \n",
      "path-13.1.0          | 34 KB     | ##################################### | 100% \n",
      "sqlalchemy-1.3.13    | 1.4 MB    | ##################################### | 100% \n",
      "mkl-service-2.3.0    | 201 KB    | ##################################### | 100% \n",
      "libcurl-7.68.0       | 382 KB    | ##################################### | 100% \n",
      "libtiff-4.1.0        | 404 KB    | ##################################### | 100% \n",
      "openssl-1.1.1d       | 2.2 MB    | ##################################### | 100% \n",
      "lazy-object-proxy-1. | 28 KB     | ##################################### | 100% \n",
      "pyzmq-18.1.1         | 400 KB    | ##################################### | 100% \n",
      "path.py-12.4.0       | 7 KB      | ##################################### | 100% \n",
      "rope-0.16.0          | 126 KB    | ##################################### | 100% \n",
      "pywavelets-1.1.1     | 3.4 MB    | ##################################### | 100% \n",
      "lxml-4.5.0           | 1.2 MB    | ##################################### | 100% \n",
      "ncurses-6.2          | 1024 KB   | ##################################### | 100% \n",
      "python-dateutil-2.8. | 224 KB    | ##################################### | 100% \n",
      "jedi-0.16.0          | 756 KB    | ##################################### | 100% \n",
      "numpy-base-1.18.1    | 3.9 MB    | ##################################### | 100% \n",
      "pysocks-1.7.1        | 30 KB     | ##################################### | 100% \n",
      "numpy-1.18.1         | 5 KB      | ##################################### | 100% \n",
      "docutils-0.16        | 667 KB    | ##################################### | 100% \n",
      "scipy-1.4.1          | 12.9 MB   | ##################################### | 100% \n",
      "imageio-2.6.1        | 3.2 MB    | ##################################### | 100% \n",
      "pytest-astropy-0.8.0 | 9 KB      | ##################################### | 100% \n",
      "babel-2.8.0          | 5.3 MB    | ##################################### | 100% \n",
      "pexpect-4.8.0        | 81 KB     | ##################################### | 100% \n",
      "pytest-astropy-heade | 12 KB     | ##################################### | 100% \n",
      "wcwidth-0.1.8        | 21 KB     | ##################################### | 100% \n",
      "pytables-3.6.1       | 1.1 MB    | ##################################### | 100% \n",
      "jinja2-2.11.1        | 104 KB    | ##################################### | 100% \n",
      "six-1.14.0           | 26 KB     | ##################################### | 100% \n",
      "certifi-2019.11.28   | 153 KB    | ##################################### | 100% \n",
      "pathlib2-2.3.5       | 37 KB     | ##################################### | 100% \n",
      "mkl_fft-1.0.15       | 136 KB    | ##################################### | 100% \n",
      "tornado-6.0.3        | 586 KB    | ##################################### | 100% \n",
      "numexpr-2.7.1        | 121 KB    | ##################################### | 100% \n",
      "decorator-4.4.1      | 13 KB     | ##################################### | 100% \n",
      "mock-4.0.1           | 32 KB     | ##################################### | 100% \n",
      "numpydoc-0.9.2       | 31 KB     | ##################################### | 100% \n",
      "colorama-0.4.3       | 20 KB     | ##################################### | 100% \n",
      "jupyter_client-5.3.4 | 141 KB    | ##################################### | 100% \n",
      "importlib_metadata-1 | 48 KB     | ##################################### | 100% \n",
      "zipp-2.2.0           | 12 KB     | ##################################### | 100% \n",
      "parso-0.6.1          | 69 KB     | ##################################### | 100% \n",
      "cryptography-2.8     | 523 KB    | ##################################### | 100% \n",
      "jupyter_core-4.6.1   | 70 KB     | ##################################### | 100% \n",
      "terminado-0.8.3      | 25 KB     | ##################################### | 100% \n",
      "pip-20.0.2           | 1.7 MB    | ##################################### | 100% \n",
      "wurlitzer-2.0.0      | 14 KB     | ##################################### | 100% \n",
      "xlwings-0.17.1       | 428 KB    | ##################################### | 100% \n",
      "nbconvert-5.6.1      | 458 KB    | ##################################### | 100% \n",
      "pycurl-7.43.0.5      | 67 KB     | ##################################### | 100% \n",
      "cython-0.29.15       | 1.9 MB    | ##################################### | 100% \n",
      "qtconsole-4.6.0      | 97 KB     | ##################################### | 100% \n",
      "pyopenssl-19.1.0     | 87 KB     | ##################################### | 100% \n",
      "clangxx_osx-64-4.0.1 | 168 KB    | ##################################### | 100% \n",
      "packaging-20.1       | 35 KB     | ##################################### | 100% \n",
      "curl-7.68.0          | 126 KB    | ##################################### | 100% \n",
      "pyparsing-2.4.6      | 64 KB     | ##################################### | 100% \n",
      "traitlets-4.3.3      | 140 KB    | ##################################### | 100% \n",
      "ipykernel-5.1.4      | 171 KB    | ##################################### | 100% \n",
      "krb5-1.17.1          | 1.1 MB    | ##################################### | 100% \n",
      "llvmlite-0.31.0      | 11.2 MB   | ##################################### | 100% \n",
      "tblib-1.6.0          | 16 KB     | ##################################### | 100% \n",
      "cytoolz-0.10.1       | 307 KB    | ##################################### | 100% \n",
      "dbus-1.13.12         | 444 KB    | ##################################### | 100% \n",
      "seaborn-0.10.0       | 163 KB    | ##################################### | 100% \n",
      "astroid-2.3.3        | 272 KB    | ##################################### | 100% \n",
      "setuptools-45.2.0    | 519 KB    | ##################################### | 100% \n",
      "bokeh-1.4.0          | 8.2 MB    | ##################################### | 100% \n",
      "ipywidgets-7.5.1     | 107 KB    | ##################################### | 100% \n",
      "scikit-image-0.16.2  | 22.5 MB   | ##################################### | 100% \n",
      "future-0.18.2        | 638 KB    | ##################################### | 100% \n",
      "distributed-2.11.0   | 938 KB    | ##################################### | 100% \n",
      "soupsieve-1.9.5      | 61 KB     | ##################################### | 100% \n",
      "ruamel_yaml-0.15.87  | 237 KB    | ##################################### | 100% \n",
      "bottleneck-1.3.2     | 106 KB    | ##################################### | 100% \n",
      "pytest-5.3.5         | 372 KB    | ##################################### | 100% \n",
      "pytest-doctestplus-0 | 21 KB     | ##################################### | 100% \n",
      "contextlib2-0.6.0.po | 16 KB     | ##################################### | 100% \n",
      "conda-package-handli | 1.3 MB    | ##################################### | 100% \n",
      "sympy-1.5.1          | 8.3 MB    | ##################################### | 100% \n",
      "imagesize-1.2.0      | 10 KB     | ##################################### | 100% \n",
      "jupyterlab_server-1. | 26 KB     | ##################################### | 100% \n",
      "pylint-2.4.4         | 420 KB    | ##################################### | 100% \n",
      "pluggy-0.13.1        | 33 KB     | ##################################### | 100% \n",
      "wheel-0.34.2         | 50 KB     | ##################################### | 100% \n",
      "cloudpickle-1.3.0    | 30 KB     | ##################################### | 100% \n",
      "keyring-21.1.0       | 55 KB     | ##################################### | 100% \n",
      "pandas-1.0.1         | 7.7 MB    | ##################################### | 100% \n",
      "pyrsistent-0.15.7    | 90 KB     | ##################################### | 100% \n",
      "astropy-4.0          | 6.0 MB    | ##################################### | 100% \n",
      "beautifulsoup4-4.8.2 | 165 KB    | ##################################### | 100% \n",
      "json5-0.9.1          | 26 KB     | ##################################### | 100% \n",
      "urllib3-1.25.8       | 169 KB    | ##################################### | 100% \n",
      "Preparing transaction: done\n",
      "Verifying transaction: done\n",
      "Executing transaction: done\n",
      "\n",
      "Note: you may need to restart the kernel to use updated packages.\n"
     ]
    }
   ],
   "source": [
    "conda update -n base -c defaults conda"
   ]
  },
  {
   "cell_type": "code",
   "execution_count": null,
   "metadata": {},
   "outputs": [],
   "source": []
  },
  {
   "cell_type": "code",
   "execution_count": null,
   "metadata": {},
   "outputs": [],
   "source": []
  },
  {
   "cell_type": "code",
   "execution_count": 2,
   "metadata": {},
   "outputs": [],
   "source": [
    "import pymc3 as pm\n",
    "import pandas as pd\n",
    "import numpy as np\n",
    "from numpy.random import seed\n",
    "import matplotlib.pyplot as plt\n",
    "from scipy.stats import gamma\n",
    "# there has been some incompatibilty between theano and numpy, if you encounter\n",
    "# an error with the latest packages from anaconda, then the included\n",
    "# package-list-txt should allow you to create a conda environment with compatible\n",
    "# packages."
   ]
  },
  {
   "cell_type": "code",
   "execution_count": 3,
   "metadata": {},
   "outputs": [],
   "source": [
    "medical = pd.read_csv('insurance2.csv')"
   ]
  },
  {
   "cell_type": "code",
   "execution_count": 4,
   "metadata": {},
   "outputs": [
    {
     "data": {
      "text/html": [
       "<div>\n",
       "<style scoped>\n",
       "    .dataframe tbody tr th:only-of-type {\n",
       "        vertical-align: middle;\n",
       "    }\n",
       "\n",
       "    .dataframe tbody tr th {\n",
       "        vertical-align: top;\n",
       "    }\n",
       "\n",
       "    .dataframe thead th {\n",
       "        text-align: right;\n",
       "    }\n",
       "</style>\n",
       "<table border=\"1\" class=\"dataframe\">\n",
       "  <thead>\n",
       "    <tr style=\"text-align: right;\">\n",
       "      <th></th>\n",
       "      <th>age</th>\n",
       "      <th>sex</th>\n",
       "      <th>bmi</th>\n",
       "      <th>children</th>\n",
       "      <th>smoker</th>\n",
       "      <th>region</th>\n",
       "      <th>charges</th>\n",
       "      <th>insuranceclaim</th>\n",
       "    </tr>\n",
       "  </thead>\n",
       "  <tbody>\n",
       "    <tr>\n",
       "      <th>0</th>\n",
       "      <td>19</td>\n",
       "      <td>0</td>\n",
       "      <td>27.900</td>\n",
       "      <td>0</td>\n",
       "      <td>1</td>\n",
       "      <td>3</td>\n",
       "      <td>16884.92400</td>\n",
       "      <td>1</td>\n",
       "    </tr>\n",
       "    <tr>\n",
       "      <th>1</th>\n",
       "      <td>18</td>\n",
       "      <td>1</td>\n",
       "      <td>33.770</td>\n",
       "      <td>1</td>\n",
       "      <td>0</td>\n",
       "      <td>2</td>\n",
       "      <td>1725.55230</td>\n",
       "      <td>1</td>\n",
       "    </tr>\n",
       "    <tr>\n",
       "      <th>2</th>\n",
       "      <td>28</td>\n",
       "      <td>1</td>\n",
       "      <td>33.000</td>\n",
       "      <td>3</td>\n",
       "      <td>0</td>\n",
       "      <td>2</td>\n",
       "      <td>4449.46200</td>\n",
       "      <td>0</td>\n",
       "    </tr>\n",
       "    <tr>\n",
       "      <th>3</th>\n",
       "      <td>33</td>\n",
       "      <td>1</td>\n",
       "      <td>22.705</td>\n",
       "      <td>0</td>\n",
       "      <td>0</td>\n",
       "      <td>1</td>\n",
       "      <td>21984.47061</td>\n",
       "      <td>0</td>\n",
       "    </tr>\n",
       "    <tr>\n",
       "      <th>4</th>\n",
       "      <td>32</td>\n",
       "      <td>1</td>\n",
       "      <td>28.880</td>\n",
       "      <td>0</td>\n",
       "      <td>0</td>\n",
       "      <td>1</td>\n",
       "      <td>3866.85520</td>\n",
       "      <td>1</td>\n",
       "    </tr>\n",
       "  </tbody>\n",
       "</table>\n",
       "</div>"
      ],
      "text/plain": [
       "   age  sex     bmi  children  smoker  region      charges  insuranceclaim\n",
       "0   19    0  27.900         0       1       3  16884.92400               1\n",
       "1   18    1  33.770         1       0       2   1725.55230               1\n",
       "2   28    1  33.000         3       0       2   4449.46200               0\n",
       "3   33    1  22.705         0       0       1  21984.47061               0\n",
       "4   32    1  28.880         0       0       1   3866.85520               1"
      ]
     },
     "execution_count": 4,
     "metadata": {},
     "output_type": "execute_result"
    }
   ],
   "source": [
    "medical.head()"
   ]
  },
  {
   "cell_type": "code",
   "execution_count": 5,
   "metadata": {},
   "outputs": [],
   "source": [
    "insurance = medical.charges[medical.insuranceclaim == 1]\n",
    "no_insurance = medical.charges[medical.insuranceclaim == 0]\n",
    "n_ins = len(insurance)\n",
    "n_no_ins = len(no_insurance)"
   ]
  },
  {
   "cell_type": "code",
   "execution_count": 55,
   "metadata": {},
   "outputs": [
    {
     "data": {
      "image/png": "[encoded data removed]",
      "text/plain": [
       "<Figure size 432x288 with 1 Axes>"
      ]
     },
     "metadata": {
      "needs_background": "light"
     },
     "output_type": "display_data"
    }
   ],
   "source": [
    "_ = plt.hist(insurance, bins=30, alpha=0.5, label='insurance claim')\n",
    "_ = plt.hist(no_insurance, bins=30, alpha=0.5, label='not insurance claim')\n",
    "_ = plt.xlabel('Charge amount')\n",
    "_ = plt.ylabel('Frequency')\n",
    "_ = plt.legend()"
   ]
  },
  {
   "cell_type": "markdown",
   "metadata": {},
   "source": [
    "We may suspect from the above that there is some sort of exponential-like distribution at play here. The charges that were not insurance claims seem most like this. The insurance claim charges may possibly be multimodal. The gamma distribution may be applicable and we could test this for the distribution of charges that weren't insurance claims first. Developing our new method for the easiest looking case first is a common and sound approach that can demonstrate a minimum viable solution/product and get, or keep, stakeholders on board."
   ]
  },
  {
   "cell_type": "markdown",
   "metadata": {},
   "source": [
    "### Initial parameter estimation"
   ]
  },
  {
   "cell_type": "markdown",
   "metadata": {},
   "source": [
    "An initial guess for the gamma distribution's $\\alpha$ and $\\beta$ parameters can be made as described [here](https://wiki.analytica.com/index.php?title=Gamma_distribution)."
   ]
  },
  {
   "cell_type": "code",
   "execution_count": 56,
   "metadata": {},
   "outputs": [
    {
     "data": {
      "text/plain": [
       "(1.8759059725250857, 4702.486170152821)"
      ]
     },
     "execution_count": 56,
     "metadata": {},
     "output_type": "execute_result"
    }
   ],
   "source": [
    "alpha_est = np.mean(no_insurance)**2 / np.var(no_insurance)\n",
    "beta_est = np.var(no_insurance) / np.mean(no_insurance)\n",
    "alpha_est, beta_est"
   ]
  },
  {
   "cell_type": "markdown",
   "metadata": {},
   "source": [
    "### Initial simulation"
   ]
  },
  {
   "cell_type": "markdown",
   "metadata": {},
   "source": [
    "Let's draw the same number of random variates from this distribution and compare to our observed data."
   ]
  },
  {
   "cell_type": "code",
   "execution_count": 57,
   "metadata": {},
   "outputs": [],
   "source": [
    "seed(47)\n",
    "no_ins_model_rvs = gamma(alpha_est, scale=beta_est).rvs(n_no_ins)"
   ]
  },
  {
   "cell_type": "code",
   "execution_count": 58,
   "metadata": {},
   "outputs": [
    {
     "data": {
      "image/png": "[encoded data removed]",
      "text/plain": [
       "<Figure size 432x288 with 1 Axes>"
      ]
     },
     "metadata": {
      "needs_background": "light"
     },
     "output_type": "display_data"
    }
   ],
   "source": [
    "_ = plt.hist(no_ins_model_rvs, bins=30, alpha=0.5, label='simulated')\n",
    "_ = plt.hist(no_insurance, bins=30, alpha=0.5, label='observed')\n",
    "_ = plt.xlabel('Charge amount')\n",
    "_ = plt.ylabel('Frequency')\n",
    "_ = plt.legend()"
   ]
  },
  {
   "cell_type": "markdown",
   "metadata": {},
   "source": [
    "Well it doesn't look too bad! We're not a million miles off. But can we do better? We have a plausible form for the distribution of charge amounts and potential values for that distribution's parameters so we can already draw random variates from that distribution to perform simulations. But we don't know if we have a _best_ estimate for the population parameters, and we also only have a single estimate each for $\\alpha$ and $\\beta$; we aren't capturing our uncertainty in their values. Can we take a Bayesian inference approach to estimate the parameters?"
   ]
  },
  {
   "cell_type": "markdown",
   "metadata": {},
   "source": [
    "### Creating a PyMC3 model"
   ]
  },
  {
   "cell_type": "code",
   "execution_count": 12,
   "metadata": {},
   "outputs": [
    {
     "data": {
      "text/plain": [
       "(1.8759059725250857, 0.00021265346963636093)"
      ]
     },
     "execution_count": 12,
     "metadata": {},
     "output_type": "execute_result"
    }
   ],
   "source": [
    "# PyMC3 Gamma seems to use rate = 1/beta\n",
    "rate_est = 1/beta_est\n",
    "# Initial parameter estimates we'll use below\n",
    "alpha_est, rate_est"
   ]
  },
  {
   "cell_type": "markdown",
   "metadata": {},
   "source": [
    "__Q:__ You are now going to create your own PyMC3 model!\n",
    "1. Use an [exponential](https://docs.pymc.io/api/distributions/continuous.html#pymc3.distributions.continuous.Exponential) prior for alpha. Call this stochastic variable `alpha_`.\n",
    "2. Similarly, use an exponential prior for the rate ([$1/\\beta$](https://wiki.analytica.com/index.php?title=Gamma_distribution)) parameter in PyMC3's [Gamma](https://docs.pymc.io/api/distributions/continuous.html#pymc3.distributions.continuous.Gamma). Call this stochastic variable `rate_` (but it will be supplied as `pm.Gamma`'s `beta` parameter). Hint: to set up a prior with an exponential distribution for $x$ where you have an initial estimate for $x$ of $x_0$, use a scale parameter of $1/x_0$.\n",
    "5. Create your Gamma distribution with your `alpha_` and `rate_` stochastic variables and the observed data.\n",
    "6. Perform 10000 draws."
   ]
  },
  {
   "cell_type": "markdown",
   "metadata": {},
   "source": [
    "Hint: you may find it helpful to work backwards. Start with your `pm.Gamma`, and note the required stochastic variables `alpha` and `beta`. Then, before that, you need to create those stochastic variables using `pm.Exponential` and the correct parameters."
   ]
  },
  {
   "cell_type": "markdown",
   "metadata": {},
   "source": [
    "__A:__"
   ]
  },
  {
   "cell_type": "code",
   "execution_count": null,
   "metadata": {},
   "outputs": [],
   "source": []
  },
  {
   "cell_type": "code",
   "execution_count": 16,
   "metadata": {},
   "outputs": [
    {
     "name": "stderr",
     "output_type": "stream",
     "text": [
      "Multiprocess sampling (2 chains in 2 jobs)\n",
      "CompoundStep\n",
      ">Metropolis: [rate_]\n",
      ">Metropolis: [alpha_]\n",
      "Sampling 2 chains: 100%|██████████| 21000/21000 [21:45<00:00, 16.09draws/s]  \n",
      "The estimated number of effective samples is smaller than 200 for some parameters.\n"
     ]
    }
   ],
   "source": [
    "with pm.Model() as model: \n",
    "    alpha_ = pm.Exponential('alpha_', 1/alpha_est)\n",
    "    rate_ = pm.Exponential('rate_', 1/rate_est)\n",
    "    observations = pm.Gamma('no_ins_pm', alpha = alpha_, beta = rate_, observed = no_insurance)\n",
    "    step = pm.Metropolis()\n",
    "    trace = pm.sample(10000, step=step)"
   ]
  },
  {
   "cell_type": "code",
   "execution_count": null,
   "metadata": {},
   "outputs": [],
   "source": []
  },
  {
   "cell_type": "markdown",
   "metadata": {},
   "source": [
    "If you get a warning about acceptance probability not matching the target, and that it's around 0.88 when it should be close to 0.8, don't worry. We encourage you to read up on this and see if you can adjust the parameters and/or arguments to pm.sample, but if your model runs without any additional warnings or errors then you should be doing great!"
   ]
  },
  {
   "cell_type": "markdown",
   "metadata": {},
   "source": [
    "__Q:__ Explore your posteriors for $\\alpha$ and $\\beta$ (from the trace).\n",
    "* Calculate the 95% credible interval for $\\alpha$ and $\\beta$.\n",
    "* Plot your posterior values of $\\alpha$ and $\\beta$ (both line plots and histograms). \n",
    "* Mark your CIs on the histograms.\n",
    "* Do they look okay? What would bad plots look like?"
   ]
  },
  {
   "cell_type": "markdown",
   "metadata": {},
   "source": [
    "__A:__"
   ]
  },
  {
   "cell_type": "code",
   "execution_count": 18,
   "metadata": {},
   "outputs": [
    {
     "data": {
      "text/plain": [
       "<matplotlib.legend.Legend at 0x1a204cbf60>"
      ]
     },
     "execution_count": 18,
     "metadata": {},
     "output_type": "execute_result"
    },
    {
     "data": {
      "image/png": "[encoded data removed]",
      "text/plain": [
       "<Figure size 432x288 with 1 Axes>"
      ]
     },
     "metadata": {
      "needs_background": "light"
     },
     "output_type": "display_data"
    }
   ],
   "source": [
    "plt.title(\"Posterior distribution\")\n",
    "ci_95_low_alpha, ci_95_high_alpha = np.percentile(trace[\"alpha_\"], [2.5, 97.5])\n",
    "plt.axvline(ci_95_low_alpha, linestyle=\"--\", label=\"95 % CI\", color='navy')\n",
    "plt.axvline(ci_95_high_alpha, linestyle=\"--\", color='navy')\n",
    "plt.hist(trace[\"alpha_\"], bins=20 )\n",
    "plt.xlabel(\"alpha_\")\n",
    "plt.ylabel(\"Frequency\")\n",
    "plt.legend()"
   ]
  },
  {
   "cell_type": "code",
   "execution_count": null,
   "metadata": {},
   "outputs": [],
   "source": []
  },
  {
   "cell_type": "code",
   "execution_count": 35,
   "metadata": {},
   "outputs": [
    {
     "data": {
      "text/plain": [
       "<matplotlib.legend.Legend at 0x1a230e4f60>"
      ]
     },
     "execution_count": 35,
     "metadata": {},
     "output_type": "execute_result"
    },
    {
     "data": {
      "image/png": "[encoded data removed]",
      "text/plain": [
       "<Figure size 432x288 with 1 Axes>"
      ]
     },
     "metadata": {
      "needs_background": "light"
     },
     "output_type": "display_data"
    }
   ],
   "source": [
    "plt.title(\"Cummulative Posterior distribution\")\n",
    "ci_95_low_alpha, ci_95_high_alpha = np.percentile(trace[\"alpha_\"], [2.5, 97.5])\n",
    "plt.axvline(ci_95_low_alpha, linestyle=\"--\", label=\"95 % CI\", color='navy')\n",
    "plt.axvline(ci_95_high_alpha, linestyle=\"--\", color='navy')\n",
    "plt.hist(trace[\"alpha_\"], bins=20, histtype = 'step', cumulative=True )\n",
    "plt.xlabel(\"alpha_\")\n",
    "plt.ylabel(\"Frequency\")\n",
    "plt.legend()"
   ]
  },
  {
   "cell_type": "code",
   "execution_count": null,
   "metadata": {},
   "outputs": [],
   "source": []
  },
  {
   "cell_type": "code",
   "execution_count": null,
   "metadata": {},
   "outputs": [],
   "source": []
  },
  {
   "cell_type": "markdown",
   "metadata": {},
   "source": []
  },
  {
   "cell_type": "markdown",
   "metadata": {},
   "source": [
    "__Q:__ Play around with some of the built-in diagnostic plots for your model. We suggest at least checking out the traceplot for alpha and beta. How do they look?"
   ]
  },
  {
   "cell_type": "markdown",
   "metadata": {},
   "source": [
    "__A:__"
   ]
  },
  {
   "cell_type": "code",
   "execution_count": 26,
   "metadata": {},
   "outputs": [
    {
     "data": {
      "text/plain": [
       "<matplotlib.legend.Legend at 0x1a1f9f1780>"
      ]
     },
     "execution_count": 26,
     "metadata": {},
     "output_type": "execute_result"
    },
    {
     "data": {
      "image/png": "[encoded data removed]",
      "text/plain": [
       "<Figure size 432x288 with 1 Axes>"
      ]
     },
     "metadata": {
      "needs_background": "light"
     },
     "output_type": "display_data"
    }
   ],
   "source": [
    "plt.title(\"Posterior distribution\")\n",
    "ci_95_low_rate, ci_95_high_rate = np.percentile(trace[\"rate_\"], [2.5, 97.5])\n",
    "plt.axvline(ci_95_low_rate, linestyle=\"--\", label=\"95 % CI\", color='r')\n",
    "plt.axvline(ci_95_high_rate, linestyle=\"--\", color='r')\n",
    "plt.hist(trace[\"rate_\"], bins=20 )\n",
    "plt.xlabel(\"rate\")\n",
    "plt.ylabel(\"Frequency\")\n",
    "plt.legend()"
   ]
  },
  {
   "cell_type": "markdown",
   "metadata": {},
   "source": []
  },
  {
   "cell_type": "code",
   "execution_count": 34,
   "metadata": {},
   "outputs": [
    {
     "data": {
      "text/plain": [
       "<matplotlib.legend.Legend at 0x1a231e7a20>"
      ]
     },
     "execution_count": 34,
     "metadata": {},
     "output_type": "execute_result"
    },
    {
     "data": {
      "image/png": "[encoded data removed]",
      "text/plain": [
       "<Figure size 432x288 with 1 Axes>"
      ]
     },
     "metadata": {
      "needs_background": "light"
     },
     "output_type": "display_data"
    }
   ],
   "source": [
    "plt.title(\"Cummulative Posterior distribution\")\n",
    "ci_95_low_rate, ci_95_high_rate = np.percentile(trace[\"rate_\"], [2.5, 97.5])\n",
    "plt.axvline(ci_95_low_rate, linestyle=\"--\", label=\"95 % CI\", color='r')\n",
    "plt.axvline(ci_95_high_rate, linestyle=\"--\", color='r')\n",
    "plt.hist(trace[\"rate_\"], bins=20, histtype = 'step', cumulative=True )\n",
    "plt.xlabel(\"rate\")\n",
    "plt.ylabel(\"Frequency\")\n",
    "plt.legend()"
   ]
  },
  {
   "cell_type": "markdown",
   "metadata": {},
   "source": [
    "__Q:__ Take your best shot at a new simulated sequence of medical charges using scipy.stat's gamma distribution. Don't forget the difference between functions that take $\\beta$ and functions that use $1/\\beta$ for the scale parameter. Simulate a data set the same size as the number of observations in the data and overlay the two histograms (simulated and observed)."
   ]
  },
  {
   "cell_type": "markdown",
   "metadata": {},
   "source": [
    "__A:__"
   ]
  },
  {
   "cell_type": "code",
   "execution_count": 65,
   "metadata": {},
   "outputs": [],
   "source": [
    "new_alpha = 2.3\n",
    "new_rate = 1/0.00026"
   ]
  },
  {
   "cell_type": "code",
   "execution_count": 66,
   "metadata": {
    "scrolled": true
   },
   "outputs": [],
   "source": [
    "new_no_ins_model_rvs = gamma(new_alpha, scale=new_rate).rvs(n_no_ins)"
   ]
  },
  {
   "cell_type": "code",
   "execution_count": 67,
   "metadata": {},
   "outputs": [
    {
     "data": {
      "image/png": "[encoded data removed]",
      "text/plain": [
       "<Figure size 432x288 with 1 Axes>"
      ]
     },
     "metadata": {
      "needs_background": "light"
     },
     "output_type": "display_data"
    }
   ],
   "source": [
    "seed(46)\n",
    "_ = plt.hist(new_no_ins_model_rvs, bins=30, alpha=0.5, label='simulated')\n",
    "_ = plt.hist(no_insurance, bins=30, alpha=0.5, label='observed')\n",
    "_ = plt.xlabel('Charge amount')\n",
    "_ = plt.ylabel('Frequency')\n",
    "_ = plt.legend()"
   ]
  },
  {
   "cell_type": "code",
   "execution_count": null,
   "metadata": {},
   "outputs": [],
   "source": []
  },
  {
   "cell_type": "code",
   "execution_count": null,
   "metadata": {},
   "outputs": [],
   "source": []
  },
  {
   "cell_type": "code",
   "execution_count": null,
   "metadata": {},
   "outputs": [],
   "source": []
  },
  {
   "cell_type": "markdown",
   "metadata": {},
   "source": [
    "## Summary"
   ]
  },
  {
   "cell_type": "markdown",
   "metadata": {},
   "source": [
    "In this exercise, we have postulated a distribution to describe the individual charge amounts for non-insured cases. This distribution has two required parameters, which we do not know, but we used PyMC3 to perform Bayesian inference to find our level of \"belief\" in a range of values for them. We then used the average parameter values to create one simulated data set of the same size as the original, but the distribution of our posteriors for these parameters will allow us to perform simulations of any sample size we desire and for a range of scenarios of different $\\alpha$ and $\\beta$. This could be a powerful tool to model different financial conditions for the hospital. \n",
    "\n",
    "Well done making it through this tricky subject. Starting think Bayesian _and_ starting to get to grips with something like PyMC3 is no easy task. As a data scientist, the most important thing is to be aware that this statistical approach exists, though you may not actually use this approach as much as you use the other approaches you've learned about. Still, we encourage you to think of ways that this approach could apply to the work that you do in this course and throughout your career.  "
   ]
  }
 ],
 "metadata": {
  "kernelspec": {
   "display_name": "Python 3",
   "language": "python",
   "name": "python3"
  },
  "language_info": {
   "codemirror_mode": {
    "name": "ipython",
    "version": 3
   },
   "file_extension": ".py",
   "mimetype": "text/x-python",
   "name": "python",
   "nbconvert_exporter": "python",
   "pygments_lexer": "ipython3",
   "version": "3.7.3"
  }
 },
 "nbformat": 4,
 "nbformat_minor": 2
}
